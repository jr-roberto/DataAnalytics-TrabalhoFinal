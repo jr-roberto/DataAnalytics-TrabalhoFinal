{
 "cells": [
  {
   "cell_type": "markdown",
   "id": "03d5e212",
   "metadata": {},
   "source": [
    "### Lendo o arquivo - CSV"
   ]
  },
  {
   "cell_type": "code",
   "execution_count": 261,
   "id": "b052a35e",
   "metadata": {},
   "outputs": [],
   "source": [
    "import zipfile\n",
    "import pandas as pd\n",
    "\n",
    "# Setando as configuracoes do pandas ao visualizar dados\n",
    "pd.set_option('display.max_columns', None)\n",
    "\n",
    "with zipfile.ZipFile(\"../01 - Banco de dados/netflix_titles.csv.zip\") as myzip:\n",
    "    with myzip.open(myzip.namelist()[0]) as mycsv:\n",
    "        df = pd.read_csv(mycsv)\n",
    "        df = df.convert_dtypes()\n"
   ]
  },
  {
   "cell_type": "markdown",
   "id": "e73059c9",
   "metadata": {},
   "source": [
    "### Salvando dados no banco de dados"
   ]
  },
  {
   "cell_type": "code",
   "execution_count": 262,
   "id": "03c0a5f6",
   "metadata": {},
   "outputs": [
    {
     "name": "stdout",
     "output_type": "stream",
     "text": [
      "✅ Conectado com sucesso\n"
     ]
    }
   ],
   "source": [
    "from sqlalchemy import URL, create_engine\n",
    "from IPython import get_ipython\n",
    "import sys\n",
    "\n",
    "url_object = URL.create(\n",
    "    \"postgresql+psycopg2\",\n",
    "    username=\"analista\",\n",
    "    password=\"32TSb+@tL955\",  # plain (unescaped) text\n",
    "    host=\"localhost\",\n",
    "    database=\"netflix\",\n",
    ")\n",
    "\n",
    "engine = create_engine(url_object)\n",
    "\n",
    "try:\n",
    "    with engine.begin() as conn: pass\n",
    "    print(\"✅ Conectado com sucesso\")\n",
    "except:\n",
    "    print(\"⚠️ Erro na conexao com o banco\")\n",
    "    if not get_ipython(): sys.exit()\n",
    "\n"
   ]
  },
  {
   "cell_type": "code",
   "execution_count": 263,
   "id": "8f960ad6",
   "metadata": {},
   "outputs": [],
   "source": [
    "kwargs={\n",
    "    \"con\":engine,\n",
    "    \"index\":False,\n",
    "    \"if_exists\":\"replace\",\n",
    "    \"schema\":\"netflix\",\n",
    "}\n",
    "\n"
   ]
  },
  {
   "cell_type": "code",
   "execution_count": 264,
   "id": "9744851a",
   "metadata": {},
   "outputs": [
    {
     "data": {
      "text/plain": [
       "(7787, 12)"
      ]
     },
     "execution_count": 264,
     "metadata": {},
     "output_type": "execute_result"
    }
   ],
   "source": [
    "# Salvando base geral no banco\n",
    "df.to_sql(\"netflix_titles\", **kwargs)\n",
    "df.head(5)\n",
    "df.shape"
   ]
  },
  {
   "cell_type": "code",
   "execution_count": 265,
   "id": "f58d348c",
   "metadata": {},
   "outputs": [
    {
     "data": {
      "text/plain": [
       "show_id            0\n",
       "type               0\n",
       "title              0\n",
       "director        2389\n",
       "cast             718\n",
       "country          507\n",
       "date_added        10\n",
       "release_year       0\n",
       "rating             7\n",
       "duration           0\n",
       "listed_in          0\n",
       "description        0\n",
       "dtype: int64"
      ]
     },
     "execution_count": 265,
     "metadata": {},
     "output_type": "execute_result"
    }
   ],
   "source": [
    "# Verificando dados nullos\n",
    "df.isnull().sum()"
   ]
  },
  {
   "cell_type": "code",
   "execution_count": 266,
   "id": "d3b8297a",
   "metadata": {},
   "outputs": [
    {
     "data": {
      "text/plain": [
       "show_id         0\n",
       "type            0\n",
       "title           0\n",
       "director        0\n",
       "cast            0\n",
       "country         0\n",
       "date_added      0\n",
       "release_year    0\n",
       "rating          0\n",
       "duration        0\n",
       "listed_in       0\n",
       "description     0\n",
       "dtype: int64"
      ]
     },
     "execution_count": 266,
     "metadata": {},
     "output_type": "execute_result"
    }
   ],
   "source": [
    "# tratando dados nulos\n",
    "df.loc[ df['director'].isnull(), \"director\" ] = \"Unknown\"\n",
    "df.loc[ df['cast'].isnull(), \"cast\" ] = \"Unknown\"\n",
    "df.loc[ df['country'].isnull(), \"country\" ] = \"Unknown\"\n",
    "df.loc[ df['rating'].isnull(), \"rating\" ] = \"Unknown\"\n",
    "df.loc[ df['date_added'].isnull(), \"date_added\" ] = \"Unknown\"\n",
    "df.isnull().sum()"
   ]
  },
  {
   "cell_type": "code",
   "execution_count": 267,
   "id": "61c21fee",
   "metadata": {},
   "outputs": [
    {
     "data": {
      "text/html": [
       "<div>\n",
       "<style scoped>\n",
       "    .dataframe tbody tr th:only-of-type {\n",
       "        vertical-align: middle;\n",
       "    }\n",
       "\n",
       "    .dataframe tbody tr th {\n",
       "        vertical-align: top;\n",
       "    }\n",
       "\n",
       "    .dataframe thead th {\n",
       "        text-align: right;\n",
       "    }\n",
       "</style>\n",
       "<table border=\"1\" class=\"dataframe\">\n",
       "  <thead>\n",
       "    <tr style=\"text-align: right;\">\n",
       "      <th></th>\n",
       "      <th>show_id</th>\n",
       "      <th>type</th>\n",
       "      <th>title</th>\n",
       "      <th>director</th>\n",
       "      <th>cast</th>\n",
       "      <th>country</th>\n",
       "      <th>date_added</th>\n",
       "      <th>release_year</th>\n",
       "      <th>rating</th>\n",
       "      <th>duration</th>\n",
       "      <th>listed_in</th>\n",
       "      <th>description</th>\n",
       "    </tr>\n",
       "  </thead>\n",
       "  <tbody>\n",
       "    <tr>\n",
       "      <th>0</th>\n",
       "      <td>s1</td>\n",
       "      <td>TV Show</td>\n",
       "      <td>3%</td>\n",
       "      <td>Unknown</td>\n",
       "      <td>João Miguel, Bianca Comparato, Michel Gomes, R...</td>\n",
       "      <td>Brazil</td>\n",
       "      <td>August 14, 2020</td>\n",
       "      <td>2020</td>\n",
       "      <td>TV-MA</td>\n",
       "      <td>4 Seasons</td>\n",
       "      <td>International TV Shows, TV Dramas, TV Sci-Fi &amp;...</td>\n",
       "      <td>In a future where the elite inhabit an island ...</td>\n",
       "    </tr>\n",
       "    <tr>\n",
       "      <th>1</th>\n",
       "      <td>s2</td>\n",
       "      <td>Movie</td>\n",
       "      <td>7:19</td>\n",
       "      <td>Jorge Michel Grau</td>\n",
       "      <td>Demián Bichir, Héctor Bonilla, Oscar Serrano, ...</td>\n",
       "      <td>Mexico</td>\n",
       "      <td>December 23, 2016</td>\n",
       "      <td>2016</td>\n",
       "      <td>TV-MA</td>\n",
       "      <td>93 min</td>\n",
       "      <td>Dramas, International Movies</td>\n",
       "      <td>After a devastating earthquake hits Mexico Cit...</td>\n",
       "    </tr>\n",
       "    <tr>\n",
       "      <th>2</th>\n",
       "      <td>s3</td>\n",
       "      <td>Movie</td>\n",
       "      <td>23:59</td>\n",
       "      <td>Gilbert Chan</td>\n",
       "      <td>Tedd Chan, Stella Chung, Henley Hii, Lawrence ...</td>\n",
       "      <td>Singapore</td>\n",
       "      <td>December 20, 2018</td>\n",
       "      <td>2011</td>\n",
       "      <td>R</td>\n",
       "      <td>78 min</td>\n",
       "      <td>Horror Movies, International Movies</td>\n",
       "      <td>When an army recruit is found dead, his fellow...</td>\n",
       "    </tr>\n",
       "    <tr>\n",
       "      <th>3</th>\n",
       "      <td>s4</td>\n",
       "      <td>Movie</td>\n",
       "      <td>9</td>\n",
       "      <td>Shane Acker</td>\n",
       "      <td>Elijah Wood, John C. Reilly, Jennifer Connelly...</td>\n",
       "      <td>United States</td>\n",
       "      <td>November 16, 2017</td>\n",
       "      <td>2009</td>\n",
       "      <td>PG-13</td>\n",
       "      <td>80 min</td>\n",
       "      <td>Action &amp; Adventure, Independent Movies, Sci-Fi...</td>\n",
       "      <td>In a postapocalyptic world, rag-doll robots hi...</td>\n",
       "    </tr>\n",
       "    <tr>\n",
       "      <th>4</th>\n",
       "      <td>s5</td>\n",
       "      <td>Movie</td>\n",
       "      <td>21</td>\n",
       "      <td>Robert Luketic</td>\n",
       "      <td>Jim Sturgess, Kevin Spacey, Kate Bosworth, Aar...</td>\n",
       "      <td>United States</td>\n",
       "      <td>January 1, 2020</td>\n",
       "      <td>2008</td>\n",
       "      <td>PG-13</td>\n",
       "      <td>123 min</td>\n",
       "      <td>Dramas</td>\n",
       "      <td>A brilliant group of students become card-coun...</td>\n",
       "    </tr>\n",
       "  </tbody>\n",
       "</table>\n",
       "</div>"
      ],
      "text/plain": [
       "  show_id     type  title           director  \\\n",
       "0      s1  TV Show     3%            Unknown   \n",
       "1      s2    Movie   7:19  Jorge Michel Grau   \n",
       "2      s3    Movie  23:59       Gilbert Chan   \n",
       "3      s4    Movie      9        Shane Acker   \n",
       "4      s5    Movie     21     Robert Luketic   \n",
       "\n",
       "                                                cast        country  \\\n",
       "0  João Miguel, Bianca Comparato, Michel Gomes, R...         Brazil   \n",
       "1  Demián Bichir, Héctor Bonilla, Oscar Serrano, ...         Mexico   \n",
       "2  Tedd Chan, Stella Chung, Henley Hii, Lawrence ...      Singapore   \n",
       "3  Elijah Wood, John C. Reilly, Jennifer Connelly...  United States   \n",
       "4  Jim Sturgess, Kevin Spacey, Kate Bosworth, Aar...  United States   \n",
       "\n",
       "          date_added  release_year rating   duration  \\\n",
       "0    August 14, 2020          2020  TV-MA  4 Seasons   \n",
       "1  December 23, 2016          2016  TV-MA     93 min   \n",
       "2  December 20, 2018          2011      R     78 min   \n",
       "3  November 16, 2017          2009  PG-13     80 min   \n",
       "4    January 1, 2020          2008  PG-13    123 min   \n",
       "\n",
       "                                           listed_in  \\\n",
       "0  International TV Shows, TV Dramas, TV Sci-Fi &...   \n",
       "1                       Dramas, International Movies   \n",
       "2                Horror Movies, International Movies   \n",
       "3  Action & Adventure, Independent Movies, Sci-Fi...   \n",
       "4                                             Dramas   \n",
       "\n",
       "                                         description  \n",
       "0  In a future where the elite inhabit an island ...  \n",
       "1  After a devastating earthquake hits Mexico Cit...  \n",
       "2  When an army recruit is found dead, his fellow...  \n",
       "3  In a postapocalyptic world, rag-doll robots hi...  \n",
       "4  A brilliant group of students become card-coun...  "
      ]
     },
     "execution_count": 267,
     "metadata": {},
     "output_type": "execute_result"
    }
   ],
   "source": [
    "df.head()"
   ]
  },
  {
   "cell_type": "code",
   "execution_count": 268,
   "id": "aba9bfe5",
   "metadata": {},
   "outputs": [
    {
     "data": {
      "text/plain": [
       "787"
      ]
     },
     "execution_count": 268,
     "metadata": {},
     "output_type": "execute_result"
    }
   ],
   "source": [
    "# Dimensao title\n",
    "dim_title = df[[\"show_id\",\"title\", \"description\", \"cast\"]].copy()\n",
    "dim_title[\"title_id\"] = dim_title.index + 1\n",
    "dim_title.to_sql(\"dim_title\", **kwargs)"
   ]
  },
  {
   "cell_type": "code",
   "execution_count": 269,
   "id": "faf419e5",
   "metadata": {},
   "outputs": [
    {
     "data": {
      "text/plain": [
       "2"
      ]
     },
     "execution_count": 269,
     "metadata": {},
     "output_type": "execute_result"
    }
   ],
   "source": [
    "# Dimensao type\n",
    "dim_type = df[['type']].drop_duplicates()\n",
    "dim_type.sort_values(\"type\",inplace=True)\n",
    "dim_type.reset_index(drop=\"index\", inplace=True)\n",
    "dim_type[\"type_id\"] = dim_type.index + 1\n",
    "dim_type.to_sql(\"dim_type\", **kwargs)"
   ]
  },
  {
   "cell_type": "code",
   "execution_count": 270,
   "id": "54c30bc1",
   "metadata": {},
   "outputs": [
    {
     "data": {
      "text/plain": [
       "50"
      ]
     },
     "execution_count": 270,
     "metadata": {},
     "output_type": "execute_result"
    }
   ],
   "source": [
    "# Dimensao director\n",
    "dim_director = df[['director']].drop_duplicates()\n",
    "dim_director.sort_values(\"director\",inplace=True)\n",
    "dim_director.reset_index(drop=\"index\", inplace=True)\n",
    "dim_director[\"director_id\"] = dim_director.index + 1\n",
    "dim_director.to_sql(\"dim_director\", **kwargs)\n"
   ]
  },
  {
   "cell_type": "code",
   "execution_count": 271,
   "id": "cae9f8af",
   "metadata": {},
   "outputs": [
    {
     "data": {
      "text/plain": [
       "682"
      ]
     },
     "execution_count": 271,
     "metadata": {},
     "output_type": "execute_result"
    }
   ],
   "source": [
    "# Dimensao country\n",
    "dim_country = df[['country']].drop_duplicates()\n",
    "dim_country.sort_values(\"country\",inplace=True)\n",
    "dim_country.reset_index(drop=\"index\", inplace=True)\n",
    "dim_country[\"country_id\"] = dim_country.index + 1\n",
    "dim_country.to_sql(\"dim_country\", **kwargs)\n"
   ]
  },
  {
   "cell_type": "code",
   "execution_count": 272,
   "id": "725be63d",
   "metadata": {},
   "outputs": [
    {
     "data": {
      "text/plain": [
       "15"
      ]
     },
     "execution_count": 272,
     "metadata": {},
     "output_type": "execute_result"
    }
   ],
   "source": [
    "# Dimensao rating\n",
    "dim_rating = df[['rating']].drop_duplicates()\n",
    "dim_rating.sort_values(\"rating\",inplace=True)\n",
    "dim_rating.reset_index(drop=\"index\", inplace=True)\n",
    "dim_rating[\"rating_id\"] = dim_rating.index + 1\n",
    "dim_rating.to_sql(\"dim_rating\", **kwargs)\n"
   ]
  },
  {
   "cell_type": "code",
   "execution_count": 273,
   "id": "96a1b0a6",
   "metadata": {},
   "outputs": [
    {
     "data": {
      "text/plain": [
       "216"
      ]
     },
     "execution_count": 273,
     "metadata": {},
     "output_type": "execute_result"
    }
   ],
   "source": [
    "# Dimensao duration\n",
    "dim_duration = df[['duration']].drop_duplicates()\n",
    "dim_duration.sort_values(\"duration\",inplace=True)\n",
    "dim_duration.reset_index(drop=\"index\", inplace=True)\n",
    "dim_duration[\"duration_id\"] = dim_duration.index + 1\n",
    "dim_duration.to_sql(\"dim_duration\", **kwargs)\n"
   ]
  },
  {
   "cell_type": "code",
   "execution_count": 274,
   "id": "37ca39c3",
   "metadata": {},
   "outputs": [
    {
     "data": {
      "text/plain": [
       "492"
      ]
     },
     "execution_count": 274,
     "metadata": {},
     "output_type": "execute_result"
    }
   ],
   "source": [
    "# Dimensao listed_in\n",
    "dim_listed_in = df[['listed_in']].drop_duplicates()\n",
    "dim_listed_in.sort_values(\"listed_in\",inplace=True)\n",
    "dim_listed_in.reset_index(drop=\"index\", inplace=True)\n",
    "dim_listed_in[\"listed_in_id\"] = dim_listed_in.index + 1\n",
    "dim_listed_in.to_sql(\"dim_listed_in\", **kwargs)\n"
   ]
  },
  {
   "cell_type": "code",
   "execution_count": 275,
   "id": "7de4730f",
   "metadata": {},
   "outputs": [
    {
     "data": {
      "text/plain": [
       "777"
      ]
     },
     "execution_count": 275,
     "metadata": {},
     "output_type": "execute_result"
    }
   ],
   "source": [
    "# Dimensao tempo\n",
    "dim_tempo = df[[\"show_id\",\"date_added\"]].copy()\n",
    "dim_tempo[\"date_added_value\"] = pd.to_datetime(dim_tempo[\"date_added\"].str.strip(), errors=\"coerce\")\n",
    "dim_tempo = dim_tempo[dim_tempo[\"date_added_value\"].notnull()]\n",
    "dim_tempo[\"year\"] = dim_tempo[\"date_added_value\"].dt.year\n",
    "dim_tempo[\"month\"] = dim_tempo[\"date_added_value\"].dt.month\n",
    "dim_tempo[\"day_of_week\"] = dim_tempo[\"date_added_value\"].dt.day_of_week\n",
    "dim_tempo.sort_values(by=\"date_added_value\", inplace=True)\n",
    "dim_tempo.reset_index(inplace=True, drop=\"index\")\n",
    "dim_tempo[\"tempo_id\"] = dim_tempo.index + 1\n",
    "dim_tempo.to_sql(\"dim_tempo\", **kwargs)\n"
   ]
  },
  {
   "cell_type": "code",
   "execution_count": 276,
   "id": "84af3297",
   "metadata": {},
   "outputs": [
    {
     "data": {
      "text/plain": [
       "(7777, 7)"
      ]
     },
     "execution_count": 276,
     "metadata": {},
     "output_type": "execute_result"
    }
   ],
   "source": [
    "dim_tempo.shape"
   ]
  },
  {
   "cell_type": "code",
   "execution_count": 277,
   "id": "882ef102",
   "metadata": {},
   "outputs": [
    {
     "data": {
      "text/plain": [
       "((7787, 9), (7787, 12))"
      ]
     },
     "execution_count": 277,
     "metadata": {},
     "output_type": "execute_result"
    }
   ],
   "source": [
    "# Fato TITLE\n",
    "\n",
    "columns_fato = [\n",
    "    \"title_id\",\n",
    "    \"type_id\",\n",
    "    \"director_id\",\n",
    "    \"country_id\",\n",
    "    \"rating_id\",\n",
    "    \"duration_id\",\n",
    "    \"listed_in_id\",\n",
    "    \"tempo_id\",\n",
    "    \"release_year\",\n",
    "]\n",
    "df_fim = df.copy()\n",
    "\n",
    "df_fim = df_fim.merge(dim_title, how=\"left\", on=\"show_id\")\n",
    "df_fim = df_fim.merge(dim_type, how=\"left\", on=\"type\")\n",
    "df_fim = df_fim.merge(dim_director, how=\"left\", on=\"director\")\n",
    "df_fim = df_fim.merge(dim_country, how=\"left\", on=\"country\")\n",
    "df_fim = df_fim.merge(dim_rating, how=\"left\", on=\"rating\")\n",
    "df_fim = df_fim.merge(dim_duration, how=\"left\", on=\"duration\")\n",
    "df_fim = df_fim.merge(dim_listed_in, how=\"left\", on=\"listed_in\")\n",
    "df_fim = df_fim.merge(dim_tempo, how=\"left\", on=\"show_id\")\n",
    "\n",
    "fato_title = df_fim[columns_fato]\n",
    "fato_title.to_sql(\"fato_title\", **kwargs)\n",
    "\n",
    "fato_title.shape, df.shape"
   ]
  },
  {
   "cell_type": "code",
   "execution_count": 280,
   "id": "3a56d7af",
   "metadata": {},
   "outputs": [
    {
     "data": {
      "text/html": [
       "<div>\n",
       "<style scoped>\n",
       "    .dataframe tbody tr th:only-of-type {\n",
       "        vertical-align: middle;\n",
       "    }\n",
       "\n",
       "    .dataframe tbody tr th {\n",
       "        vertical-align: top;\n",
       "    }\n",
       "\n",
       "    .dataframe thead th {\n",
       "        text-align: right;\n",
       "    }\n",
       "</style>\n",
       "<table border=\"1\" class=\"dataframe\">\n",
       "  <thead>\n",
       "    <tr style=\"text-align: right;\">\n",
       "      <th></th>\n",
       "      <th>title_id</th>\n",
       "      <th>type_id</th>\n",
       "      <th>director_id</th>\n",
       "      <th>country_id</th>\n",
       "      <th>rating_id</th>\n",
       "      <th>duration_id</th>\n",
       "      <th>listed_in_id</th>\n",
       "      <th>tempo_id</th>\n",
       "      <th>release_year</th>\n",
       "    </tr>\n",
       "  </thead>\n",
       "  <tbody>\n",
       "    <tr>\n",
       "      <th>0</th>\n",
       "      <td>1</td>\n",
       "      <td>2</td>\n",
       "      <td>3847</td>\n",
       "      <td>40</td>\n",
       "      <td>9</td>\n",
       "      <td>148</td>\n",
       "      <td>399</td>\n",
       "      <td>6906.0</td>\n",
       "      <td>2020</td>\n",
       "    </tr>\n",
       "    <tr>\n",
       "      <th>1</th>\n",
       "      <td>2</td>\n",
       "      <td>1</td>\n",
       "      <td>1841</td>\n",
       "      <td>309</td>\n",
       "      <td>9</td>\n",
       "      <td>210</td>\n",
       "      <td>311</td>\n",
       "      <td>575.0</td>\n",
       "      <td>2016</td>\n",
       "    </tr>\n",
       "    <tr>\n",
       "      <th>2</th>\n",
       "      <td>3</td>\n",
       "      <td>1</td>\n",
       "      <td>1290</td>\n",
       "      <td>380</td>\n",
       "      <td>6</td>\n",
       "      <td>191</td>\n",
       "      <td>337</td>\n",
       "      <td>3422.0</td>\n",
       "      <td>2011</td>\n",
       "    </tr>\n",
       "    <tr>\n",
       "      <th>3</th>\n",
       "      <td>4</td>\n",
       "      <td>1</td>\n",
       "      <td>3446</td>\n",
       "      <td>550</td>\n",
       "      <td>5</td>\n",
       "      <td>195</td>\n",
       "      <td>48</td>\n",
       "      <td>1667.0</td>\n",
       "      <td>2009</td>\n",
       "    </tr>\n",
       "    <tr>\n",
       "      <th>4</th>\n",
       "      <td>5</td>\n",
       "      <td>1</td>\n",
       "      <td>3177</td>\n",
       "      <td>550</td>\n",
       "      <td>5</td>\n",
       "      <td>31</td>\n",
       "      <td>295</td>\n",
       "      <td>5705.0</td>\n",
       "      <td>2008</td>\n",
       "    </tr>\n",
       "    <tr>\n",
       "      <th>5</th>\n",
       "      <td>6</td>\n",
       "      <td>2</td>\n",
       "      <td>3419</td>\n",
       "      <td>449</td>\n",
       "      <td>9</td>\n",
       "      <td>1</td>\n",
       "      <td>398</td>\n",
       "      <td>1201.0</td>\n",
       "      <td>2016</td>\n",
       "    </tr>\n",
       "    <tr>\n",
       "      <th>6</th>\n",
       "      <td>7</td>\n",
       "      <td>1</td>\n",
       "      <td>3991</td>\n",
       "      <td>138</td>\n",
       "      <td>9</td>\n",
       "      <td>212</td>\n",
       "      <td>337</td>\n",
       "      <td>6516.0</td>\n",
       "      <td>2019</td>\n",
       "    </tr>\n",
       "    <tr>\n",
       "      <th>7</th>\n",
       "      <td>8</td>\n",
       "      <td>1</td>\n",
       "      <td>2025</td>\n",
       "      <td>550</td>\n",
       "      <td>6</td>\n",
       "      <td>25</td>\n",
       "      <td>295</td>\n",
       "      <td>5234.0</td>\n",
       "      <td>1997</td>\n",
       "    </tr>\n",
       "    <tr>\n",
       "      <th>8</th>\n",
       "      <td>9</td>\n",
       "      <td>1</td>\n",
       "      <td>3486</td>\n",
       "      <td>230</td>\n",
       "      <td>7</td>\n",
       "      <td>24</td>\n",
       "      <td>337</td>\n",
       "      <td>4022.0</td>\n",
       "      <td>2019</td>\n",
       "    </tr>\n",
       "    <tr>\n",
       "      <th>9</th>\n",
       "      <td>10</td>\n",
       "      <td>1</td>\n",
       "      <td>3893</td>\n",
       "      <td>230</td>\n",
       "      <td>9</td>\n",
       "      <td>54</td>\n",
       "      <td>340</td>\n",
       "      <td>1742.0</td>\n",
       "      <td>2008</td>\n",
       "    </tr>\n",
       "    <tr>\n",
       "      <th>10</th>\n",
       "      <td>11</td>\n",
       "      <td>1</td>\n",
       "      <td>4025</td>\n",
       "      <td>550</td>\n",
       "      <td>9</td>\n",
       "      <td>7</td>\n",
       "      <td>331</td>\n",
       "      <td>1583.0</td>\n",
       "      <td>2017</td>\n",
       "    </tr>\n",
       "    <tr>\n",
       "      <th>11</th>\n",
       "      <td>12</td>\n",
       "      <td>2</td>\n",
       "      <td>3847</td>\n",
       "      <td>358</td>\n",
       "      <td>9</td>\n",
       "      <td>1</td>\n",
       "      <td>233</td>\n",
       "      <td>3296.0</td>\n",
       "      <td>2018</td>\n",
       "    </tr>\n",
       "    <tr>\n",
       "      <th>12</th>\n",
       "      <td>13</td>\n",
       "      <td>2</td>\n",
       "      <td>978</td>\n",
       "      <td>309</td>\n",
       "      <td>9</td>\n",
       "      <td>1</td>\n",
       "      <td>224</td>\n",
       "      <td>4276.0</td>\n",
       "      <td>2019</td>\n",
       "    </tr>\n",
       "    <tr>\n",
       "      <th>13</th>\n",
       "      <td>14</td>\n",
       "      <td>1</td>\n",
       "      <td>2734</td>\n",
       "      <td>445</td>\n",
       "      <td>9</td>\n",
       "      <td>204</td>\n",
       "      <td>271</td>\n",
       "      <td>3821.0</td>\n",
       "      <td>2018</td>\n",
       "    </tr>\n",
       "    <tr>\n",
       "      <th>14</th>\n",
       "      <td>15</td>\n",
       "      <td>1</td>\n",
       "      <td>1789</td>\n",
       "      <td>550</td>\n",
       "      <td>6</td>\n",
       "      <td>208</td>\n",
       "      <td>347</td>\n",
       "      <td>6084.0</td>\n",
       "      <td>2019</td>\n",
       "    </tr>\n",
       "  </tbody>\n",
       "</table>\n",
       "</div>"
      ],
      "text/plain": [
       "    title_id  type_id  director_id  country_id  rating_id  duration_id  \\\n",
       "0          1        2         3847          40          9          148   \n",
       "1          2        1         1841         309          9          210   \n",
       "2          3        1         1290         380          6          191   \n",
       "3          4        1         3446         550          5          195   \n",
       "4          5        1         3177         550          5           31   \n",
       "5          6        2         3419         449          9            1   \n",
       "6          7        1         3991         138          9          212   \n",
       "7          8        1         2025         550          6           25   \n",
       "8          9        1         3486         230          7           24   \n",
       "9         10        1         3893         230          9           54   \n",
       "10        11        1         4025         550          9            7   \n",
       "11        12        2         3847         358          9            1   \n",
       "12        13        2          978         309          9            1   \n",
       "13        14        1         2734         445          9          204   \n",
       "14        15        1         1789         550          6          208   \n",
       "\n",
       "    listed_in_id  tempo_id  release_year  \n",
       "0            399    6906.0          2020  \n",
       "1            311     575.0          2016  \n",
       "2            337    3422.0          2011  \n",
       "3             48    1667.0          2009  \n",
       "4            295    5705.0          2008  \n",
       "5            398    1201.0          2016  \n",
       "6            337    6516.0          2019  \n",
       "7            295    5234.0          1997  \n",
       "8            337    4022.0          2019  \n",
       "9            340    1742.0          2008  \n",
       "10           331    1583.0          2017  \n",
       "11           233    3296.0          2018  \n",
       "12           224    4276.0          2019  \n",
       "13           271    3821.0          2018  \n",
       "14           347    6084.0          2019  "
      ]
     },
     "execution_count": 280,
     "metadata": {},
     "output_type": "execute_result"
    }
   ],
   "source": [
    "fato_title.head(15)"
   ]
  }
 ],
 "metadata": {
  "kernelspec": {
   "display_name": ".venv (3.13.1)",
   "language": "python",
   "name": "python3"
  },
  "language_info": {
   "codemirror_mode": {
    "name": "ipython",
    "version": 3
   },
   "file_extension": ".py",
   "mimetype": "text/x-python",
   "name": "python",
   "nbconvert_exporter": "python",
   "pygments_lexer": "ipython3",
   "version": "3.13.1"
  }
 },
 "nbformat": 4,
 "nbformat_minor": 5
}
