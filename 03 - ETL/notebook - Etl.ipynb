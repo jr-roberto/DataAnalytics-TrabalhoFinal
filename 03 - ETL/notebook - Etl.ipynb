{
 "cells": [
  {
   "cell_type": "markdown",
   "id": "03d5e212",
   "metadata": {},
   "source": [
    "### Lendo o arquivo - CSV"
   ]
  },
  {
   "cell_type": "code",
   "execution_count": 39,
   "id": "b052a35e",
   "metadata": {},
   "outputs": [],
   "source": [
    "import zipfile\n",
    "import pandas as pd\n",
    "\n",
    "# Setando as configuracoes do pandas ao visualizar dados\n",
    "pd.set_option('display.max_columns', None)\n",
    "\n",
    "with zipfile.ZipFile(\"../01 - Banco de dados/netflix_titles.csv.zip\") as myzip:\n",
    "    with myzip.open(myzip.namelist()[0]) as mycsv:\n",
    "        df = pd.read_csv(mycsv)\n",
    "        df = df.convert_dtypes()\n"
   ]
  },
  {
   "cell_type": "markdown",
   "id": "e73059c9",
   "metadata": {},
   "source": [
    "### Salvando dados no banco de dados"
   ]
  },
  {
   "cell_type": "code",
   "execution_count": 63,
   "id": "03c0a5f6",
   "metadata": {},
   "outputs": [
    {
     "name": "stdout",
     "output_type": "stream",
     "text": [
      "✅ Conectado com sucesso\n"
     ]
    }
   ],
   "source": [
    "from sqlalchemy import URL, create_engine\n",
    "from IPython import get_ipython\n",
    "import sys\n",
    "\n",
    "url_object = URL.create(\n",
    "    \"postgresql+psycopg2\",\n",
    "    username=\"analista\",\n",
    "    password=\"32TSb+@tL955\",  # plain (unescaped) text\n",
    "    host=\"localhost\",\n",
    "    database=\"netflix\",\n",
    ")\n",
    "\n",
    "engine = create_engine(url_object)\n",
    "\n",
    "try:\n",
    "    with engine.begin() as conn: pass\n",
    "    print(\"✅ Conectado com sucesso\")\n",
    "except:\n",
    "    print(\"⚠️ Erro na conexao com o banco\")\n",
    "    if not get_ipython(): sys.exit()\n",
    "\n"
   ]
  },
  {
   "cell_type": "code",
   "execution_count": null,
   "id": "8f960ad6",
   "metadata": {},
   "outputs": [
    {
     "data": {
      "text/plain": [
       "787"
      ]
     },
     "execution_count": 65,
     "metadata": {},
     "output_type": "execute_result"
    }
   ],
   "source": [
    "kwargs={\n",
    "    \"con\":engine,\n",
    "    \"index\":False,\n",
    "    \"if_exists\":\"replace\",\n",
    "    \"schema\":\"netflix\",\n",
    "}\n",
    "\n",
    "df.to_sql(\"netflix_titles\", **kwargs)\n"
   ]
  }
 ],
 "metadata": {
  "kernelspec": {
   "display_name": ".venv (3.13.1)",
   "language": "python",
   "name": "python3"
  },
  "language_info": {
   "codemirror_mode": {
    "name": "ipython",
    "version": 3
   },
   "file_extension": ".py",
   "mimetype": "text/x-python",
   "name": "python",
   "nbconvert_exporter": "python",
   "pygments_lexer": "ipython3",
   "version": "3.13.1"
  }
 },
 "nbformat": 4,
 "nbformat_minor": 5
}
